{
 "cells": [
  {
   "cell_type": "markdown",
   "metadata": {},
   "source": [
    "# Teste 1.2 - Problema de Regressão \n",
    "## Início: 08/03/2018 16h20 e Término: 08/03/2018 23h59min\n",
    "\n",
    "O objetivo deste primeiro teste da disciplina Tópicos Especiais em Engenharia de Computação III é praticar os conceitos de Machine Learning vistos até o momento, em especial aqueles relativos ao processo de Aprendizagem de Máquina.\n",
    "\n",
    "Vamos trabalhar agora com um problema de regressão. Utilizaremos o dataset visto em sala **AUTO MPG**\n",
    "\n",
    "Consulte o link: https://archive.ics.uci.edu/ml/datasets/Auto+MPG\n",
    "\n",
    "Para facilitar esta tarefa, um pouco de pré-processamento já foi feito no dataset, disponível junto aos arquivos da avaliação intitulado 'autompg.csv'. Neste dataset o separador é ponto-e-vírgula.\n",
    "\n",
    "Esta tarefa é dividida em to-dos, isto é, pequenas atividades que devem ser cumpridas para que o objetivo geral seja alcançado. A cada to-do está associada uma célula do Jupyter Notebook, que deve ser preenchida com código Python atendendo ao que se pede.\n",
    "***"
   ]
  },
  {
   "cell_type": "code",
   "execution_count": null,
   "metadata": {
    "collapsed": true
   },
   "outputs": [],
   "source": [
    "# Organize seus imports nesta célula\n"
   ]
  },
  {
   "cell_type": "markdown",
   "metadata": {},
   "source": [
    "### To-Do 1\n",
    "\n",
    "1. Abra o dataset com o pandas;\n",
    "2. Elimine os exemplos em que há dados faltantes (NaN - Not a Number;\n",
    "3. Exclua a coluna name (não será necessária)\n",
    "3. Imprima o dataset."
   ]
  },
  {
   "cell_type": "code",
   "execution_count": null,
   "metadata": {},
   "outputs": [],
   "source": []
  },
  {
   "cell_type": "markdown",
   "metadata": {},
   "source": [
    "### To-Do 2\n",
    "\n",
    "Vamos agora construir um modelo de regressão linear para prever o atributo alvo 'mpg' em questão.\n",
    "\n",
    "1. Separe o dataset de maneira análoga ao indicando na parte 1.1 deste teste, considerando agora a partição 60/40 para treinamento e teste.\n",
    "2. Complete o código para treinamento do modelo, fornecendo atributos preditores e atributo alvo do conjunto de treinamento"
   ]
  },
  {
   "cell_type": "code",
   "execution_count": null,
   "metadata": {},
   "outputs": [],
   "source": []
  },
  {
   "cell_type": "code",
   "execution_count": null,
   "metadata": {},
   "outputs": [],
   "source": [
    "from sklearn import linear_model\n",
    "\n",
    "regr = linear_model.LinearRegression()\n",
    "regr.fit('Atributos preditores do conjunto de treinamento', 'Atributo alvo do conjunto de treinamento')"
   ]
  },
  {
   "cell_type": "markdown",
   "metadata": {},
   "source": [
    "### To-Do 3\n",
    "\n",
    "Preveja os resultados para o conjunto de testes, usando o modelo em questão."
   ]
  },
  {
   "cell_type": "code",
   "execution_count": null,
   "metadata": {},
   "outputs": [],
   "source": []
  },
  {
   "cell_type": "markdown",
   "metadata": {},
   "source": [
    "### To-Do 4\n",
    "\n",
    "Calcule o RMSE (root-mean-square error) para as previsões realizadas. Não utilize bibliotecas prontas para esta tarefa."
   ]
  },
  {
   "cell_type": "code",
   "execution_count": null,
   "metadata": {},
   "outputs": [],
   "source": []
  },
  {
   "cell_type": "markdown",
   "metadata": {},
   "source": [
    "### To-Do 5\n",
    "\n",
    "Calcule o R-Squared para os dados. De maneira análoga, não utilize bibliotecas prontas para esta tarefa."
   ]
  },
  {
   "cell_type": "code",
   "execution_count": null,
   "metadata": {},
   "outputs": [],
   "source": []
  },
  {
   "cell_type": "markdown",
   "metadata": {},
   "source": [
    "### To-Do 7\n",
    "\n",
    "Em um mesmo gráfico, plote:\n",
    "1. Uma reta-0\n",
    "2. Os resíduos, sob a forma de pontos com as coordenadas: (mpg,residuo correspondente)\n",
    "3. Nomeie apropriadamente os eixos no gráfico"
   ]
  },
  {
   "cell_type": "code",
   "execution_count": null,
   "metadata": {},
   "outputs": [],
   "source": []
  },
  {
   "cell_type": "markdown",
   "metadata": {},
   "source": []
  },
  {
   "cell_type": "markdown",
   "metadata": {},
   "source": [
    "### To-Do 8\n",
    "\n",
    "Utilizando argumentos textuais, justifique a qualidade do modelo apresentado para o problema em questão."
   ]
  },
  {
   "cell_type": "markdown",
   "metadata": {},
   "source": [
    "Seu texto de justificativa vai aqui. Clique duas vezes para editar."
   ]
  }
 ],
 "metadata": {
  "kernelspec": {
   "display_name": "Python 3",
   "language": "python",
   "name": "python3"
  },
  "language_info": {
   "codemirror_mode": {
    "name": "ipython",
    "version": 3
   },
   "file_extension": ".py",
   "mimetype": "text/x-python",
   "name": "python",
   "nbconvert_exporter": "python",
   "pygments_lexer": "ipython3",
   "version": "3.6.3"
  }
 },
 "nbformat": 4,
 "nbformat_minor": 2
}
